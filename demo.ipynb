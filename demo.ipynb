{
 "cells": [
  {
   "attachments": {},
   "cell_type": "markdown",
   "metadata": {},
   "source": [
    "# Demo: Semantic Kernel, Plugins, Functions, Planner"
   ]
  },
  {
   "cell_type": "markdown",
   "metadata": {},
   "source": [
    "## 💾 Install packages"
   ]
  },
  {
   "cell_type": "code",
   "execution_count": null,
   "metadata": {
    "dotnet_interactive": {
     "language": "csharp"
    },
    "polyglot_notebook": {
     "kernelName": "csharp"
    }
   },
   "outputs": [],
   "source": [
    "#r \"nuget: Microsoft.SemanticKernel, 1.3.0\"\n",
    "#r \"nuget: Microsoft.SemanticKernel.Abstractions, 1.3.0\"\n",
    "#r \"nuget: Microsoft.SemanticKernel.Plugins.Core, 1.3.0-alpha\"\n",
    "#r \"nuget: Microsoft.SemanticKernel.Plugins.Web, 1.3.0-alpha\"\n",
    "#r \"nuget: Microsoft.SemanticKernel.Planners.Handlebars, 1.3.0-preview\"\n",
    "#r \"nuget: Microsoft.Extensions.Logging.Console, 8.0.0\"\n",
    "#r \"nuget: SkiaSharp, 2.88.3\""
   ]
  },
  {
   "cell_type": "markdown",
   "metadata": {},
   "source": [
    "## 🔥 Fire up the kernel"
   ]
  },
  {
   "cell_type": "markdown",
   "metadata": {},
   "source": [
    "⚠️ Make sure to use a model that allows OpenAI function-calling."
   ]
  },
  {
   "cell_type": "code",
   "execution_count": null,
   "metadata": {
    "dotnet_interactive": {
     "language": "csharp"
    },
    "polyglot_notebook": {
     "kernelName": "csharp"
    }
   },
   "outputs": [],
   "source": [
    "#!import config/Settings.cs\n",
    "#!import config/Utils.cs\n",
    "#!import config/SkiaUtils.cs\n",
    "\n",
    "#pragma warning disable SKEXP0001, SKEXP0002, SKEXP0011, SKEXP0012\n",
    "\n",
    "using Microsoft.SemanticKernel;\n",
    "using Microsoft.SemanticKernel.Connectors.OpenAI;\n",
    "using Microsoft.SemanticKernel.Planning.Handlebars;\n",
    "using Microsoft.Extensions.Logging;\n",
    "using Kernel = Microsoft.SemanticKernel.Kernel;\n",
    "using Microsoft.SemanticKernel.Plugins.Web;\n",
    "using Microsoft.SemanticKernel.Plugins.Web.Bing;\n",
    "using Microsoft.SemanticKernel.TextToImage;\n",
    "using Microsoft.SemanticKernel.Services;\n",
    "\n",
    "Kernel kernel;\n",
    "\n",
    "var (useAzureOpenAI, model, azureEndpoint, apiKey, orgId, email, bing) = Settings.LoadFromFile();\n",
    "kernel = Kernel.CreateBuilder()\n",
    "    .AddAzureOpenAIChatCompletion(model, azureEndpoint, apiKey)\n",
    "    .AddAzureOpenAITextToImage(\"dall-e-3\", azureEndpoint, apiKey)\n",
    "    .Build();\n"
   ]
  },
  {
   "cell_type": "markdown",
   "metadata": {},
   "source": [
    "## ⌚️ Declare & import a plugin with a native .NET function"
   ]
  },
  {
   "cell_type": "code",
   "execution_count": null,
   "metadata": {
    "dotnet_interactive": {
     "language": "csharp"
    },
    "polyglot_notebook": {
     "kernelName": "csharp"
    }
   },
   "outputs": [],
   "source": [
    "using System.ComponentModel;\n",
    "using Microsoft.Extensions.Logging;\n",
    "using Microsoft.SemanticKernel;\n",
    "using Microsoft.SemanticKernel.Plugins.Core;\n",
    "\n",
    "public class TimeInformationPlugin\n",
    "{\n",
    "    [KernelFunction]\n",
    "    [Description(\"Retrieves the current time in UTC.\")]\n",
    "    public string GetCurrentUtcTime() => DateTime.UtcNow.ToString(\"R\");\n",
    "}\n",
    "\n",
    "kernel.ImportPluginFromType<TimeInformationPlugin>();"
   ]
  },
  {
   "cell_type": "markdown",
   "metadata": {},
   "source": [
    "## 🪴 Reduce hallucination of an LLM via grounding"
   ]
  },
  {
   "cell_type": "markdown",
   "metadata": {},
   "source": [
    "Invoke kernel with a prompt that asks the model for information it cannot provide => likely to hallucinate."
   ]
  },
  {
   "cell_type": "code",
   "execution_count": null,
   "metadata": {
    "dotnet_interactive": {
     "language": "csharp"
    },
    "polyglot_notebook": {
     "kernelName": "csharp"
    }
   },
   "outputs": [],
   "source": [
    "Console.WriteLine(await kernel.InvokePromptAsync(\n",
    "    \"How many days until Christmas?\"));"
   ]
  },
  {
   "cell_type": "markdown",
   "metadata": {},
   "source": [
    "Use the  `TimeInformationPlugin` plugin from above in the templated prompt. Now, the LLM is \"thinking out loud\", based on the right information to start from. "
   ]
  },
  {
   "cell_type": "code",
   "execution_count": null,
   "metadata": {
    "dotnet_interactive": {
     "language": "csharp"
    },
    "polyglot_notebook": {
     "kernelName": "csharp"
    }
   },
   "outputs": [],
   "source": [
    "Console.WriteLine(await kernel.InvokePromptAsync(\n",
    "    \"The current time is {{TimeInformationPlugin.GetCurrentUtcTime}}. How many days until Christmas?\"));"
   ]
  },
  {
   "cell_type": "markdown",
   "metadata": {},
   "source": [
    "Now, allow the AI to ***automatically*** invoke functions. Note that we're hoping it will find `TimeInformationPlugin` -- keep in mind that this depends on the quality of the name & description of your plugin(s) and function(s). Also show streaming of model response data."
   ]
  },
  {
   "cell_type": "code",
   "execution_count": null,
   "metadata": {
    "dotnet_interactive": {
     "language": "csharp"
    },
    "polyglot_notebook": {
     "kernelName": "csharp"
    }
   },
   "outputs": [],
   "source": [
    "OpenAIPromptExecutionSettings settings = new() { ToolCallBehavior = ToolCallBehavior.AutoInvokeKernelFunctions };\n",
    "var results = kernel.InvokePromptStreamingAsync(\n",
    "    \"How many days until Christmas? Explain your thinking.\", new(settings));\n",
    "await foreach (var message in results)\n",
    "{\n",
    "    Console.Write(message);\n",
    "} "
   ]
  },
  {
   "cell_type": "markdown",
   "metadata": {},
   "source": [
    "Import the built-in web search plugin 🔎 with the Bing connector to get up-to-date information. "
   ]
  },
  {
   "cell_type": "code",
   "execution_count": null,
   "metadata": {
    "dotnet_interactive": {
     "language": "csharp"
    },
    "polyglot_notebook": {
     "kernelName": "csharp"
    }
   },
   "outputs": [],
   "source": [
    "#pragma warning disable SKEXP0054\n",
    "\n",
    "// Load Bing plugin\n",
    "var bingConnector = new BingConnector(bing);\n",
    "kernel.ImportPluginFromObject(new WebSearchEnginePlugin(bingConnector), \"bing\");\n",
    "var results = kernel.InvokePromptStreamingAsync(\"Who won the oscar for best movie in 2024?\", new KernelArguments(settings));\n",
    "await foreach (var message in results)\n",
    "{\n",
    "    Console.Write(message);\n",
    "} "
   ]
  },
  {
   "cell_type": "markdown",
   "metadata": {},
   "source": [
    "## 📨 Declare & import a plugin with a semantic function"
   ]
  },
  {
   "cell_type": "markdown",
   "metadata": {},
   "source": [
    "Let's create a custom plugin for classification of text in terms of spam or not."
   ]
  },
  {
   "cell_type": "code",
   "execution_count": null,
   "metadata": {
    "dotnet_interactive": {
     "language": "csharp"
    },
    "polyglot_notebook": {
     "kernelName": "csharp"
    }
   },
   "outputs": [],
   "source": [
    "using Microsoft.SemanticKernel.Connectors.OpenAI;\n",
    "\n",
    "public class SpamPlugin\n",
    "{\n",
    "    [KernelFunction]\n",
    "    [Description(\"Tells you whether a given text is spam.\")]\n",
    "    public async Task<string> ClassifySpam(Kernel kernel, \n",
    "        [Description(\"The text that will be classified\")] string input)\n",
    "    {\n",
    "        KernelArguments args = new(\n",
    "            new OpenAIPromptExecutionSettings { MaxTokens = 256, Temperature = 0.0 }) { { \"input\", input } };\n",
    "        var result = await kernel.InvokePromptAsync(\n",
    "            @\"\n",
    "            Decide whether a message is spam or not from it's content, and tone.\n",
    "            Only use one of the two categories that follow and nothing else:\n",
    "            Categories: spam, not spam \n",
    "\n",
    "            Examples\n",
    "            Message: You've won!\n",
    "            Category: spam\n",
    "\n",
    "            Message: Claim your gift card!\n",
    "            Category: spam\n",
    "\n",
    "            Message: where do we request this for our customers?\n",
    "            Category: not spam\n",
    "\n",
    "            Message: {{$input}}\n",
    "            Category:\n",
    "            \", \n",
    "            args); \n",
    "        return result.ToString();\n",
    "    }\n",
    "}\n",
    "\n",
    "var spamPlugin = kernel.ImportPluginFromType<SpamPlugin>();"
   ]
  },
  {
   "cell_type": "markdown",
   "metadata": {},
   "source": [
    "Invoke the plugin function directly."
   ]
  },
  {
   "cell_type": "code",
   "execution_count": null,
   "metadata": {
    "dotnet_interactive": {
     "language": "csharp"
    },
    "polyglot_notebook": {
     "kernelName": "csharp"
    }
   },
   "outputs": [],
   "source": [
    "var msg1 = \"Congratulations, you won!\";\n",
    "Console.WriteLine(msg1 + \" => \" + await kernel.InvokeAsync(spamPlugin[\"ClassifySpam\"], new() { [\"input\"] = msg1 } ));\n",
    "var msg2 = \"Hey don't forget our meeting tomorrow\";\n",
    "Console.WriteLine(msg2 + \" => \" + await kernel.InvokeAsync(spamPlugin[\"ClassifySpam\"], new() { [\"input\"] = msg2 } ));"
   ]
  },
  {
   "cell_type": "markdown",
   "metadata": {},
   "source": [
    "Show that we can also use the kernel to work with other AI models like DALL-E to generate images 🧙."
   ]
  },
  {
   "cell_type": "code",
   "execution_count": null,
   "metadata": {
    "dotnet_interactive": {
     "language": "csharp"
    },
    "polyglot_notebook": {
     "kernelName": "csharp"
    }
   },
   "outputs": [],
   "source": [
    "#pragma warning disable SKEXP0002\n",
    "\n",
    "// Get AI service instance used to generate images\n",
    "var dallE = kernel.GetRequiredService<ITextToImageService>();\n",
    "\n",
    "var prompt = @\"\n",
    "Cute Harry Potter, pixar animated movie style, standing outside Hogwarts in a thunderstorm with lightning at night.\";\n",
    "\n",
    "var executionSettings = new OpenAIPromptExecutionSettings \n",
    "{\n",
    "    MaxTokens = 256,\n",
    "    Temperature = 1\n",
    "};\n",
    "\n",
    "// Create a semantic function that generate a random image description.\n",
    "var genImgDescription = kernel.CreateFunctionFromPrompt(prompt, executionSettings);\n",
    "\n",
    "var random = new Random().Next(0, 200);\n",
    "var imageDescriptionResult = await kernel.InvokeAsync(genImgDescription, new() { [\"input\"] = random });\n",
    "var imageDescription = imageDescriptionResult.ToString();\n",
    "\n",
    "// Use DALL-E 3 to generate an image. OpenAI in this case returns a URL (though you can ask to return a base64 image)\n",
    "var imageUrl = await dallE.GenerateImageAsync(imageDescription.Trim(), 1024, 1024);\n",
    "await SkiaUtils.ShowImage(imageUrl, 800, 600);"
   ]
  },
  {
   "cell_type": "markdown",
   "metadata": {},
   "source": [
    "## 📋 Use the Planner "
   ]
  },
  {
   "cell_type": "markdown",
   "metadata": {},
   "source": [
    "Planner takes a user's ask and (using an LLM) creates a plan. It makes use of the collection of plugins that have been registered to the kernel and combines them into a series of steps that complete the goal.\n",
    "\n",
    "Let's add a plugin 🔌 to send emails. \n"
   ]
  },
  {
   "cell_type": "code",
   "execution_count": 13,
   "metadata": {
    "dotnet_interactive": {
     "language": "csharp"
    },
    "polyglot_notebook": {
     "kernelName": "csharp"
    }
   },
   "outputs": [],
   "source": [
    "using System;\n",
    "using System.IO;\n",
    "using System.Net;\n",
    "using System.Net.Http;\n",
    "using System.Net.Http.Headers;\n",
    "using System.Threading.Tasks;\n",
    "using System.ComponentModel;\n",
    "using Newtonsoft.Json;\n",
    "\n",
    "public class EmailPlugin\n",
    "{\n",
    "    [KernelFunction, Description(\"Given an e-mail and message body, send an email\")]\n",
    "    public async Task<string> SendEmail(\n",
    "        [Description(\"The body of the email message to send.\")] string input,\n",
    "        [Description(\"The email address to send email to.\")] string email_address) {\n",
    "            StringContent httpContent = new StringContent(\n",
    "                JsonConvert.SerializeObject(new { to = email_address, content = input }), \n",
    "                    System.Text.Encoding.UTF8, \"application/json\");\n",
    "            var response = await new HttpClient().PostAsync(File.ReadAllText(\"config/email_endpoint.txt\"), httpContent);\n",
    "            return response.StatusCode == HttpStatusCode.Accepted ? \n",
    "                $\"Email sent to: {email_address}.\" : $\"Error sending email\";\n",
    "    }\n",
    "\n",
    "}\n",
    "kernel.ImportPluginFromType<EmailPlugin>();"
   ]
  },
  {
   "cell_type": "markdown",
   "metadata": {},
   "source": [
    "Generate a plan for an ask containing multiple steps."
   ]
  },
  {
   "cell_type": "code",
   "execution_count": 16,
   "metadata": {
    "dotnet_interactive": {
     "language": "csharp"
    },
    "polyglot_notebook": {
     "kernelName": "csharp"
    }
   },
   "outputs": [
    {
     "name": "stdout",
     "output_type": "stream",
     "text": [
      "The proposed plan in Handlebars format:\n",
      "\n",
      "{{!-- Step 1: Retrieve the current UTC time --}}\n",
      "{{set \"currentTime\" (TimeInformationPlugin-GetCurrentUtcTime)}}\n",
      "\n",
      "{{!-- Step 2: Set the name of the city where the company Carl Zeiss was founded --}}\n",
      "{{set \"cityName\" \"Jena\"}}\n",
      "\n",
      "{{!-- Step 3: Concatenate the current time and city name into one string for the email body --}}\n",
      "{{set \"emailBody\" (concat \"The current UTC time is \" currentTime \". The company Carl Zeiss was founded in the city of \" cityName \".\")}}\n",
      "\n",
      "{{!-- Step 4: Send the email with the constructed body to the provided email address --}}\n",
      "{{json (EmailPlugin-SendEmail input=emailBody email_address=\"clemm@microsoft.com\")}}\n"
     ]
    }
   ],
   "source": [
    "#pragma warning disable SKEXP0060\n",
    "\n",
    "var planner = new HandlebarsPlanner();\n",
    "var ask = @$\"Provide the current time and the name of the city where the company Carl Zeiss was founded. \n",
    "            Send the result as an email to {email}\";\n",
    "var plan = await planner.CreatePlanAsync(kernel, ask);\n",
    "\n",
    "Console.WriteLine(\"The proposed plan in Handlebars format:\\n\");\n",
    "Console.WriteLine(plan);"
   ]
  },
  {
   "cell_type": "markdown",
   "metadata": {},
   "source": [
    "Let's run the plan 🚲."
   ]
  },
  {
   "cell_type": "code",
   "execution_count": 17,
   "metadata": {
    "dotnet_interactive": {
     "language": "csharp"
    },
    "polyglot_notebook": {
     "kernelName": "csharp"
    }
   },
   "outputs": [
    {
     "data": {
      "text/plain": [
       "Email sent to: clemm@microsoft.com."
      ]
     },
     "metadata": {},
     "output_type": "display_data"
    }
   ],
   "source": [
    "#pragma warning disable SKEXP0060\n",
    "\n",
    "var planResult = await plan.InvokeAsync(kernel, new KernelArguments());\n",
    "planResult"
   ]
  }
 ],
 "metadata": {
  "kernelspec": {
   "display_name": ".NET (C#)",
   "language": "C#",
   "name": ".net-csharp"
  },
  "language_info": {
   "name": "polyglot-notebook"
  },
  "polyglot_notebook": {
   "kernelInfo": {
    "defaultKernelName": "csharp",
    "items": [
     {
      "aliases": [],
      "name": "csharp"
     }
    ]
   }
  }
 },
 "nbformat": 4,
 "nbformat_minor": 2
}
